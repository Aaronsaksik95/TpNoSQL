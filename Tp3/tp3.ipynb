{
 "metadata": {
  "language_info": {
   "codemirror_mode": {
    "name": "ipython",
    "version": 3
   },
   "file_extension": ".py",
   "mimetype": "text/x-python",
   "name": "python",
   "nbconvert_exporter": "python",
   "pygments_lexer": "ipython3",
   "version": "3.7.0-final"
  },
  "orig_nbformat": 2,
  "kernelspec": {
   "name": "python3",
   "display_name": "Python 3",
   "language": "python"
  }
 },
 "nbformat": 4,
 "nbformat_minor": 2,
 "cells": [
  {
   "cell_type": "code",
   "execution_count": 46,
   "metadata": {},
   "outputs": [],
   "source": [
    "import pymongo\n",
    "from pymongo import MongoClient\n",
    "import json"
   ]
  },
  {
   "cell_type": "code",
   "execution_count": 49,
   "metadata": {},
   "outputs": [],
   "source": [
    "client = MongoClient(host = \"mongodb://localhost:27017/\")\n",
    "    \n",
    "db = client.db_agg\n",
    "transactions = db.transactions"
   ]
  },
  {
   "cell_type": "code",
   "execution_count": 63,
   "metadata": {},
   "outputs": [
    {
     "output_type": "stream",
     "name": "stdout",
     "text": [
      "[{'_id': None, 'total': 1640}]\n"
     ]
    }
   ],
   "source": [
    "# Q-1.\n",
    "pipeline = [\n",
    "    {\"$unwind\": \"$Panier\"},\n",
    "    {\"$group\": {\"_id\": None, \"total\": {\"$sum\": \"$Panier.price\" }}},\n",
    "]\n",
    "        \n",
    "result = [ item for item in transactions.aggregate(pipeline) ]\n",
    "print(result)"
   ]
  },
  {
   "cell_type": "code",
   "execution_count": 62,
   "metadata": {},
   "outputs": [
    {
     "output_type": "stream",
     "name": "stdout",
     "text": [
      "[{'_id': 'tran3', 'total': 410}, {'_id': 'tran4', 'total': 410}, {'_id': 'tran1', 'total': 410}, {'_id': 'tran2', 'total': 410}]\n"
     ]
    }
   ],
   "source": [
    "# Q-2.\n",
    "pipeline = [\n",
    "    {\"$unwind\": \"$Panier\"},\n",
    "    {\"$group\": {\"_id\": \"$TransactionId\", \"total\": {\"$sum\": \"$Panier.price\" }}},\n",
    "]\n",
    "        \n",
    "result = [ item for item in transactions.aggregate(pipeline) ]\n",
    "print(result)"
   ]
  },
  {
   "cell_type": "code",
   "execution_count": 60,
   "metadata": {},
   "outputs": [
    {
     "output_type": "stream",
     "name": "stdout",
     "text": [
      "{'_id': 'Credit-Card', 'Total Payment': 820}\n{'_id': 'Debit-Card', 'Total Payment': 410}\n"
     ]
    }
   ],
   "source": [
    " # Q-3.\n",
    "\n",
    "matching = {\"$match\":{\"Payment\":{\"$ne\": None}}}\n",
    "TotalPayment = {\"$group\" : {\"_id\" : \"$Payment.Type\", \"Total Payment\" : { \"$sum\" : \"$Payment.Total\" }}}\n",
    "for item in transactions.aggregate( [matching,TotalPayment] ):\n",
    "    print(item)"
   ]
  },
  {
   "cell_type": "code",
   "execution_count": 57,
   "metadata": {},
   "outputs": [
    {
     "output_type": "stream",
     "name": "stdout",
     "text": [
      "{'_id': None, 'Id': 103}\n"
     ]
    }
   ],
   "source": [
    "# Q-4.\n",
    "group = {\"$group\": { \"_id\" : None , \"Id\": {\"$max\": \"$Id\"} }}\n",
    "sort = {\"$sort\" : {\"max\" : -1}}\n",
    "\n",
    "for item in transactions.aggregate([group, sort]):\n",
    "    print(item)"
   ]
  },
  {
   "cell_type": "code",
   "execution_count": 58,
   "metadata": {},
   "outputs": [
    {
     "output_type": "stream",
     "name": "stdout",
     "text": [
      "{'_id': None, 'max_price': 210}\n"
     ]
    }
   ],
   "source": [
    "# Q-5.\n",
    "eclater = { \"$unwind\" : '$Panier' }\n",
    "maxPrice = { \"$group\" : {\"_id\" : None , \"max_price\" : { \"$max\" : \"$Panier.price\" }} }\n",
    "tri = {\"$sort\" : {\"max\" : -1}}\n",
    "for item in transactions.aggregate( [eclater, maxPrice, tri] ):\n",
    "    print(item)"
   ]
  },
  {
   "cell_type": "code",
   "execution_count": null,
   "metadata": {},
   "outputs": [],
   "source": []
  }
 ]
}