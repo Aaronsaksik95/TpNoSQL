{
 "metadata": {
  "language_info": {
   "codemirror_mode": {
    "name": "ipython",
    "version": 3
   },
   "file_extension": ".py",
   "mimetype": "text/x-python",
   "name": "python",
   "nbconvert_exporter": "python",
   "pygments_lexer": "ipython3",
   "version": "3.7.0-final"
  },
  "orig_nbformat": 2,
  "kernelspec": {
   "name": "python3",
   "display_name": "Python 3",
   "language": "python"
  }
 },
 "nbformat": 4,
 "nbformat_minor": 2,
 "cells": [
  {
   "cell_type": "code",
   "execution_count": 2,
   "metadata": {},
   "outputs": [],
   "source": [
    "from pymongo import MongoClient"
   ]
  },
  {
   "cell_type": "code",
   "execution_count": 3,
   "metadata": {},
   "outputs": [
    {
     "output_type": "stream",
     "name": "stdout",
     "text": [
      "connection successful\n"
     ]
    }
   ],
   "source": [
    "try:\n",
    "    client = MongoClient('mongodb://localhost:27017/')\n",
    "    print (\"connection successful\")\n",
    "except:\n",
    "    print (\"connection error\")\n"
   ]
  },
  {
   "cell_type": "code",
   "execution_count": 10,
   "metadata": {},
   "outputs": [
    {
     "output_type": "stream",
     "name": "stdout",
     "text": [
      "connection db successful\n"
     ]
    }
   ],
   "source": [
    "#ligne 15:\n",
    "try:\n",
    "    db = client[\"metflix\"]\n",
    "    movies_metflix = db[\"movies_metflix\"]\n",
    "    print (\"connection db successful\")\n",
    "except AttributeError as error:\n",
    "    print (\"Get MongoDB database and collection ERROR:\", error)"
   ]
  },
  {
   "cell_type": "code",
   "execution_count": null,
   "metadata": {},
   "outputs": [],
   "source": [
    "#ligne 18:\n",
    "movie_1 = { \"title\": \"Rocky\", \"year\": 1976 }\n",
    "movie_2 = { \"title\": \"Rocky\", \"year\": 1976, \"_id\": \"tt0075148\" }\n",
    "movie_3 = { \"title\": \"Rocky\", \"year\": 1976, \"_id\": \"tt0075148\" }\n",
    "movie_4 = { \"title\": \"Rocky\", \"year\": 1976 }\n",
    "movies_metflix.insert_one(movie_1)\n",
    "movies_metflix.insert_one(movie_2)\n",
    "movies_metflix.insert_one(movie_3)\n",
    "movies_metflix.insert_one(movie_4)\n",
    "#Erreur car l'_id de movie_3 est le même que celui de movie_2. movie_1 et movie_2 sont bien inséré."
   ]
  },
  {
   "cell_type": "code",
   "execution_count": 13,
   "metadata": {},
   "outputs": [
    {
     "output_type": "stream",
     "name": "stdout",
     "text": [
      "add successful\n"
     ]
    }
   ],
   "source": [
    "#ligne 45:\n",
    "mylist = [\n",
    "    {\"title\": \"Rocky\", \"year\": 1976 },\n",
    "    {\"title\": \"Jaws\", \"year\": 1975, \"imdb\": \"tt0073195\"},\n",
    "    {\"title\": \"Mad Max 2\", \"year\": 1981, \"imdb\": \"tt0082694\"},\n",
    "    {\"title\": \"Raiders of the Lost Ark\", \"year\": 1981, \"imdb\": \"tt0082971\"}\n",
    "]\n",
    "movies_metflix.insert_many(mylist)\n",
    "print(\"add successful\")"
   ]
  },
  {
   "cell_type": "code",
   "execution_count": 14,
   "metadata": {},
   "outputs": [
    {
     "output_type": "stream",
     "name": "stdout",
     "text": [
      "{'_id': ObjectId('6000731c1aaf1c53b67de94d'), 'title': 'Jaws', 'year': 1975, 'imdb': 'tt0073195'}\n"
     ]
    }
   ],
   "source": [
    "#ligne 57:\n",
    "item_one = movies_metflix.find({\"title\":\"Jaws\"})\n",
    "for item in item_one:   \n",
    "    print(item)"
   ]
  },
  {
   "cell_type": "code",
   "execution_count": 15,
   "metadata": {
    "tags": []
   },
   "outputs": [
    {
     "output_type": "stream",
     "name": "stdout",
     "text": [
      "{'_id': ObjectId('6000731c1aaf1c53b67de94c'), 'title': 'Rocky', 'year': 1976}\n{'_id': ObjectId('6000731c1aaf1c53b67de94d'), 'title': 'Jaws', 'year': 1975, 'imdb': 'tt0073195'}\n{'_id': ObjectId('6000731c1aaf1c53b67de94e'), 'title': 'Mad Max 2', 'year': 1981, 'imdb': 'tt0082694'}\n{'_id': ObjectId('6000731c1aaf1c53b67de94f'), 'title': 'Raiders of the Lost Ark', 'year': 1981, 'imdb': 'tt0082971'}\n"
     ]
    }
   ],
   "source": [
    "#ligne 57:\n",
    "items_many = movies_metflix.find()\n",
    "for item in items_many:   \n",
    "    print(item)"
   ]
  },
  {
   "cell_type": "code",
   "execution_count": null,
   "metadata": {},
   "outputs": [],
   "source": [
    "#ligne 57:\n",
    "item = movies.find_one()\n",
    "print(item)"
   ]
  },
  {
   "cell_type": "code",
   "execution_count": null,
   "metadata": {},
   "outputs": [],
   "source": [
    "#ligne 57:\n",
    "item_1981 = movies.find({\"year\": 1981})\n",
    "for item in item_1981:   \n",
    "    print(item)"
   ]
  },
  {
   "cell_type": "code",
   "execution_count": null,
   "metadata": {},
   "outputs": [],
   "source": [
    "#ligne 79:\n",
    "import json\n",
    "try:\n",
    "    db = client[\"movies_artists\"]\n",
    "    movies = db[\"movie\"]\n",
    "    artists = db[\"artists\"]\n",
    "    print (\"connection db successful\")\n",
    "except AttributeError as error:\n",
    "    print (\"Get MongoDB database and collection ERROR:\", error)"
   ]
  },
  {
   "cell_type": "code",
   "execution_count": null,
   "metadata": {},
   "outputs": [],
   "source": [
    "#ligne 83:\n",
    "with open('artists.json') as f:\n",
    "    data_artists = json.load(f)\n",
    "with open('artists_suite.json') as f:\n",
    "    data_artists_suite = json.load(f)\n",
    "artists.remove()\n",
    "artists.insert_many(data_artists)\n",
    "artists.insert_many(data_artists_suite)\n",
    "print(\"add successful\")"
   ]
  },
  {
   "cell_type": "code",
   "execution_count": null,
   "metadata": {},
   "outputs": [],
   "source": [
    "#ligne 83:\n",
    "with open('movies.json') as f:\n",
    "    data_movies = json.load(f)\n",
    "with open('movies_suite.json') as f:\n",
    "    data_movies_suite = json.load(f)\n",
    "movies.remove()\n",
    "movies.insert_many(data_movies)\n",
    "movies.insert_many(data_movies_suite)\n",
    "print(\"add successful\")"
   ]
  },
  {
   "cell_type": "code",
   "execution_count": null,
   "metadata": {
    "tags": [
     "outputPrepend"
    ]
   },
   "outputs": [],
   "source": [
    "items_many = movies.find()\n",
    "for item in items_many:   \n",
    "    print(item)"
   ]
  },
  {
   "cell_type": "code",
   "execution_count": null,
   "metadata": {},
   "outputs": [],
   "source": [
    "#ligne 113:\n",
    "movies_12 = movies.find({},{\"title\"}).limit(12).skip(10)\n",
    "for item in movies12:   \n",
    "    print(item)"
   ]
  },
  {
   "cell_type": "code",
   "execution_count": null,
   "metadata": {},
   "outputs": [],
   "source": [
    "#ligne 120:\n",
    "movie_title = movies.find({},{\"title\"}).sort(\"title\", 1)\n",
    "for item in movie_title:   \n",
    "    print(item)"
   ]
  },
  {
   "cell_type": "code",
   "execution_count": null,
   "metadata": {},
   "outputs": [],
   "source": [
    "#ligne 120:\n",
    "movie_title_decroi = movies.find({},{\"title\"}).sort(\"title\", -1)\n",
    "for item in movie_title_decroi:   \n",
    "    print(item)"
   ]
  },
  {
   "cell_type": "code",
   "execution_count": null,
   "metadata": {},
   "outputs": [],
   "source": [
    "#ligne 127:\n",
    "movie_2 = movies.find({\"_id\": \"movie:2\"}, {\"title\", \"genre\", \"summary\"})\n",
    "for item in movie_2:   \n",
    "    print(item)"
   ]
  },
  {
   "cell_type": "code",
   "execution_count": null,
   "metadata": {},
   "outputs": [],
   "source": [
    "#ligne 131:\n",
    "movie_1979 = movies.find({\"year\": 1979},{\"title\", \"year\", \"actors\"}).sort(\"title\", 1)\n",
    "for item in movie_1979:   \n",
    "    print(item)\n",
    "#count\n",
    "print(movie_1979.count())"
   ]
  },
  {
   "cell_type": "code",
   "execution_count": null,
   "metadata": {},
   "outputs": [],
   "source": [
    "#ligne 134:\n",
    "movie_science_fic = movies.find({\"year\": 1979, \"genre\" : \"Science-fiction\"},{\"_id\" : 0, \"summary\": 0})\n",
    "for item in movie_science_fic:\n",
    "    print(item)"
   ]
  },
  {
   "cell_type": "code",
   "execution_count": null,
   "metadata": {},
   "outputs": [],
   "source": [
    "#ligne 152:\n",
    "movie_direc_4 = movies.find({\"director\":{\"_id\" : \"artist:4\"}},{\"genre\" : 0, \"summary\": 0, \"country\": 0}).sort(\"year\", 1)\n",
    "for item in movie_direc_4:\n",
    "    print(item)\n",
    "\n",
    "#count\n",
    "print(movie_direc_4.count())"
   ]
  },
  {
   "cell_type": "code",
   "execution_count": null,
   "metadata": {},
   "outputs": [],
   "source": [
    "#ligne 155:\n",
    "movie_director_4_maximus = movies.find({\"director\":{\"_id\" : \"artist:4\"}, \"actors.role\": \"Maximus\"},{\"genre\" : 0, \"summary\": 0, \"country\": 0})\n",
    "for item in movie_director_4_maximus:\n",
    "    print(item)\n",
    "    \n",
    "#count\n",
    "print(movie_director_4_maximus.count())"
   ]
  },
  {
   "cell_type": "code",
   "execution_count": null,
   "metadata": {},
   "outputs": [],
   "source": [
    "#ligne 164:\n",
    "movies_2000_2005 = movies.find({\"year\":{\"$gte\":2000,\"$lt\":2005}},{\"title\" : 1, \"year\": 1}).sort(\"year\", -1)\n",
    "for item in movies_2000_2005:\n",
    "    print(item)"
   ]
  },
  {
   "cell_type": "code",
   "execution_count": null,
   "metadata": {},
   "outputs": [],
   "source": [
    "#ligne 169:\n",
    "movies_actor_147_1997 = movies.find({\"$or\" : [{\"year\": 1997}, {\"actors._id\": \"artist:147\"}] },{\"title\" : 1, \"year\": 1, \"actors\":1})\n",
    "\n",
    "for item in movies_actor_147_1997:\n",
    "    print(item)"
   ]
  },
  {
   "cell_type": "code",
   "execution_count": null,
   "metadata": {},
   "outputs": [],
   "source": [
    "#ligne 176:\n",
    "movies_34_98_1 = movies.find({\"actors._id\": {\"$in\" : [\"artist:34\", \"artist:98\", \"artist:1\"] }},{\"title\" : 1, \"year\": 1, \"actors\": 1, \"_id\": 0}).sort(\"year\", 1)\n",
    "\n",
    "for item in movies_34_98_1:\n",
    "    print(item)\n",
    "    print(\"\\n\")\n",
    "\n",
    "#count\n",
    "print(movies_34_98_1.count())"
   ]
  },
  {
   "cell_type": "code",
   "execution_count": null,
   "metadata": {},
   "outputs": [],
   "source": [
    "#ligne 179:\n",
    "movies_23_147 = movies.find({\"actors._id\": {\"$all\" : [\"artist:23\", \"artist:147\"] }},{\"title\" : 1, \"year\": 1, \"actors\": 1, \"_id\": 0})\n",
    "\n",
    "for item in movies_23_147:\n",
    "    print(item)\n",
    "    print(\"\\n\")\n",
    "#count\n",
    "print(movies_23_147.count())"
   ]
  },
  {
   "cell_type": "code",
   "execution_count": null,
   "metadata": {},
   "outputs": [],
   "source": [
    "#ligne 182:\n",
    "movies_not_34_98_1 = movies.find({\"actors._id\": { \"$not\": {\"$in\" : [\"artist:34\", \"artist:98\", \"artist:1\"] }}},{\"title\" : 1, \"actors\": 1, \"_id\": 0}).sort(\"year\", 1)\n",
    "\n",
    "for item in movies_not_34_98_1:\n",
    "    print(item)\n",
    "    print(\"\\n\")\n",
    "\n",
    "#count\n",
    "print(movies_not_34_98_1.count())"
   ]
  },
  {
   "cell_type": "code",
   "execution_count": null,
   "metadata": {
    "tags": []
   },
   "outputs": [],
   "source": [
    "#ligne 185:\n",
    "movies_not_actors = movies.find({\"actors\": { \"$exists\": False }}, {\"title\", \"actors\"})\n",
    "print(movies_not_actors.count())\n"
   ]
  },
  {
   "cell_type": "code",
   "execution_count": null,
   "metadata": {},
   "outputs": [],
   "source": [
    "#ligne 185:\n",
    "movies_not_actors = movies.find({\"actors._id\": { \"$exists\": False }}, {\"title\", \"actors\"})\n",
    "for item in movies_not_actors:\n",
    "    print(item)\n",
    "#count \n",
    "print(movies_not_actors.count())"
   ]
  },
  {
   "cell_type": "code",
   "execution_count": null,
   "metadata": {},
   "outputs": [],
   "source": [
    "#ligne 192:\n",
    "eastwood = artists.find_one({\"first_name\": \"Clint\", \"last_name\": \"Eastwood\"})\n",
    "print(eastwood)\n",
    "print(\"\\n\")\n",
    "movies_direc_eastwood = movies.find({\"director._id\": eastwood['_id']}, {\"title\": 1, \"director._id\" : 1})\n",
    "for item in movies_direc_eastwood:\n",
    "    print(item)"
   ]
  },
  {
   "cell_type": "code",
   "execution_count": null,
   "metadata": {},
   "outputs": [],
   "source": [
    "#ligne 203:\n",
    "movies_re = movies.find({\"title\": {\"$regex\": \"^Re\" }}, {\"actors\": 0, \"summary\": 0})\n",
    "for item in movies_re:\n",
    "    print(item)"
   ]
  },
  {
   "cell_type": "code",
   "execution_count": null,
   "metadata": {},
   "outputs": [],
   "source": [
    "#ligne 208:\n",
    "movies_re = movies.find({\"title\": {\"$regex\": \"la$\" }}, {\"actors\": 0, \"summary\": 0})\n",
    "for item in movies_re:\n",
    "    print(item)"
   ]
  },
  {
   "cell_type": "code",
   "execution_count": null,
   "metadata": {},
   "outputs": [],
   "source": [
    "#ligne 214:\n",
    "movies_147 = movies.find({\"actors._id\": \"artist:147\"},{\"title\" : 1, \"actors\": 1, \"_id\": 0})\n",
    "for item in movies_147:\n",
    "    print(item)\n",
    "#count\n",
    "print(movies_147.count())"
   ]
  },
  {
   "cell_type": "code",
   "execution_count": null,
   "metadata": {},
   "outputs": [],
   "source": [
    "#ligne 216:\n",
    "movies_147 = movies.find({\"actors._id\": \"artist:147\"},{\"title\" : 1, \"_id\": 0})\n",
    "for item in movies_147:\n",
    "    print(item)\n",
    "#count\n",
    "print(movies_147.count())"
   ]
  },
  {
   "cell_type": "code",
   "execution_count": null,
   "metadata": {},
   "outputs": [],
   "source": []
  }
 ]
}